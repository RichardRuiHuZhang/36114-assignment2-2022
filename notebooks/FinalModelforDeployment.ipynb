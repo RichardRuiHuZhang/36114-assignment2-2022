{
 "cells": [
  {
   "cell_type": "code",
   "execution_count": null,
   "id": "f9f265db",
   "metadata": {},
   "outputs": [],
   "source": [
    "from joblib import dump\n",
    "import pandas as pd\n",
    "import numpy as np\n",
    "from sklearn.pipeline import Pipeline\n",
    "from sklearn.compose import ColumnTransformer\n",
    "from sklearn.preprocessing import LabelEncoder\n",
    "from sklearn.preprocessing import MinMaxScaler\n",
    "from sklearn.linear_model import LogisticRegression\n",
    "from sklearn.ensemble import RandomForestClassifier"
   ]
  },
  {
   "cell_type": "code",
   "execution_count": null,
   "id": "d425d5dd",
   "metadata": {},
   "outputs": [],
   "source": [
    "df_data_raw = pd.read_csv('../data/raw/beer_reviews.csv')"
   ]
  },
  {
   "cell_type": "code",
   "execution_count": null,
   "id": "cd329db9",
   "metadata": {},
   "outputs": [],
   "source": [
    "df_data_clean1 = df_data_raw.copy()"
   ]
  },
  {
   "cell_type": "code",
   "execution_count": null,
   "id": "896d706f",
   "metadata": {},
   "outputs": [],
   "source": [
    "#Define columns to be used for various steps later\n",
    "col_usable = ['brewery_name','review_aroma','review_appearance','review_palate','review_taste','beer_abv','beer_style']\n",
    "independent_cols = ['brewery_name','review_aroma','review_appearance','review_palate','review_taste','beer_abv']\n",
    "numerical_cols = ['review_aroma','review_appearance','review_palate','review_taste','beer_abv']\n",
    "factor_cols = ['brewery_name']\n",
    "target_col = ['beer_style']"
   ]
  },
  {
   "cell_type": "code",
   "execution_count": null,
   "id": "83f0d2e5",
   "metadata": {},
   "outputs": [],
   "source": [
    "#Select only the required columns\n",
    "df_data_reduced1 = df_data_clean1.loc[:,col_usable]"
   ]
  },
  {
   "cell_type": "code",
   "execution_count": null,
   "id": "6dbff360",
   "metadata": {},
   "outputs": [],
   "source": [
    "#Save the target column transformer for inverse transformation in app\n",
    "dump(target_encoder,'../models/target_decoder.joblib')"
   ]
  },
  {
   "cell_type": "code",
   "execution_count": null,
   "id": "5c293ddb",
   "metadata": {},
   "outputs": [],
   "source": [
    "cat_var_transformer = Pipeline(\n",
    "    steps=[\n",
    "        ('brewery_name_encoder', MinMaxScaler())\n",
    "    ]\n",
    ")\n",
    "\n",
    "num_var_transformer = Pipeline(\n",
    "    steps=[\n",
    "        ('beer_measures_encoder', OrdinalEncoder())\n",
    "    ]\n",
    ")\n",
    "\n",
    "preprocessor = ColumnTransformer(\n",
    "    transformers=[\n",
    "        ('fac_cols', cat_var_transformer, factor_cols),\n",
    "        ('num_cols', num_var_transformer, numerical_cols)\n",
    "    ]\n",
    ")\n",
    "\n",
    "model_pipeline = Pipeline(\n",
    "    steps=[\n",
    "        ('preprocessor', preprocessor),\n",
    "        ('log_regression', LogisticRegression(max_iter=10000)) ## This line is set to the final model used for API\n",
    "    ]\n",
    ")"
   ]
  },
  {
   "cell_type": "code",
   "execution_count": null,
   "id": "db5dd01c",
   "metadata": {},
   "outputs": [],
   "source": [
    "#Use the original sub-dataset for training\n",
    "df_data_reduced1=df_data_reduced1.dropna()\n",
    "df_data_reduced1.pop('beer_style')\n",
    "X1, X2, y1, y2 = train_test_split(df_data_reduced1, target_out, train_size=0.7, random_state=42)\n",
    "model_pipeline.fit(X1,y1)"
   ]
  },
  {
   "cell_type": "code",
   "execution_count": null,
   "id": "772edb61",
   "metadata": {},
   "outputs": [],
   "source": [
    "dump(model_pipeline,'../models/pipeline.joblib')"
   ]
  }
 ],
 "metadata": {
  "kernelspec": {
   "display_name": "Python 3 (ipykernel)",
   "language": "python",
   "name": "python3"
  },
  "language_info": {
   "codemirror_mode": {
    "name": "ipython",
    "version": 3
   },
   "file_extension": ".py",
   "mimetype": "text/x-python",
   "name": "python",
   "nbconvert_exporter": "python",
   "pygments_lexer": "ipython3",
   "version": "3.9.7"
  }
 },
 "nbformat": 4,
 "nbformat_minor": 5
}
